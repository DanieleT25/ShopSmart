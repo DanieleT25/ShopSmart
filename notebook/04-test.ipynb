{
 "cells": [
  {
   "cell_type": "markdown",
   "metadata": {},
   "source": [
    "# Model Testing"
   ]
  },
  {
   "cell_type": "code",
   "execution_count": null,
   "metadata": {},
   "outputs": [],
   "source": [
    "import pandas as pd\n",
    "import sys\n",
    "import os\n",
    "\n",
    "sys.path.append(os.path.abspath(os.path.join(os.getcwd(), '..')))\n",
    "\n",
    "from source.models.collabFilter import CollaborativeFilter\n",
    "from source.models.collabFilter_UserUser import CollaborativeFilter_UserUser\n",
    "from source.models.collabFilter_ItemItem import CollaborativeFilter_ItemItem\n",
    "\n",
    "import source.utils.utils as utils"
   ]
  },
  {
   "cell_type": "code",
   "execution_count": null,
   "metadata": {},
   "outputs": [],
   "source": [
    "train_data = pd.read_csv('../Data/train_data.csv')\n",
    "U = train_data.pivot_table(index='tessera',columns='cod_prod',values='value')"
   ]
  },
  {
   "cell_type": "code",
   "execution_count": null,
   "metadata": {},
   "outputs": [],
   "source": [
    "cf : CollaborativeFilter =  CollaborativeFilter_ItemItem(N = 100) # ... = CollaborativeFilter_UserUser(N = 100)\n",
    "cf.fit(U)"
   ]
  },
  {
   "cell_type": "code",
   "execution_count": null,
   "metadata": {},
   "outputs": [],
   "source": [
    "test_data = pd.read_csv('../data/test_data.csv')"
   ]
  },
  {
   "cell_type": "code",
   "execution_count": null,
   "metadata": {},
   "outputs": [],
   "source": [
    "predicted_ratings = utils.predict(cf, test_data)"
   ]
  },
  {
   "cell_type": "code",
   "execution_count": null,
   "metadata": {},
   "outputs": [],
   "source": [
    "mae_score = utils.mae(test_data['value'], predicted_ratings)\n",
    "print(f\"Mean Absolute Error (MAE) on the test set: {mae_score}\")"
   ]
  }
 ],
 "metadata": {
  "kernelspec": {
   "display_name": "Python 3 (ipykernel)",
   "language": "python",
   "name": "python3"
  }
 },
 "nbformat": 4,
 "nbformat_minor": 2
}
