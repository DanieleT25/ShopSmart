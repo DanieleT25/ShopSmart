{
 "cells": [
  {
   "cell_type": "markdown",
   "metadata": {},
   "source": [
    "# Collaborative filters' comparision"
   ]
  },
  {
   "cell_type": "code",
   "execution_count": null,
   "metadata": {},
   "outputs": [],
   "source": [
    "import pandas as pd\n",
    "import sys\n",
    "import os\n",
    "\n",
    "sys.path.append(os.path.abspath(os.path.join(os.getcwd(), '..')))\n",
    "\n",
    "from source.models.collabFilter import CollaborativeFilter\n",
    "from source.models.collabFilter_UserUser import CollaborativeFilter_UserUser\n",
    "from source.models.collabFilter_ItemItem import CollaborativeFilter_ItemItem\n",
    "\n",
    "import source.utils.utils as utils"
   ]
  },
  {
   "cell_type": "code",
   "execution_count": null,
   "metadata": {},
   "outputs": [],
   "source": [
    "train_data = pd.read_csv('../Data/train_data.csv')\n",
    "U = train_data.pivot_table(index='tessera',columns='cod_prod',values='value')"
   ]
  },
  {
   "cell_type": "code",
   "execution_count": null,
   "metadata": {},
   "outputs": [],
   "source": [
    "cfUser : CollaborativeFilter =  CollaborativeFilter_UserUser(N = 100)\n",
    "cfUser.fit(U)"
   ]
  },
  {
   "cell_type": "code",
   "execution_count": null,
   "metadata": {},
   "outputs": [],
   "source": [
    "cfItem : CollaborativeFilter =  CollaborativeFilter_ItemItem(N = 100)\n",
    "cfItem.fit(U)"
   ]
  },
  {
   "cell_type": "code",
   "execution_count": null,
   "metadata": {},
   "outputs": [],
   "source": [
    "test_data = pd.read_csv('../data/test_data.csv')"
   ]
  },
  {
   "cell_type": "code",
   "execution_count": null,
   "metadata": {},
   "outputs": [],
   "source": [
    "predicted_ratings_user = utils.predict(cfUser, test_data)"
   ]
  },
  {
   "cell_type": "code",
   "execution_count": null,
   "metadata": {},
   "outputs": [],
   "source": [
    "predicted_ratings_item = utils.predict(cfItem, test_data)"
   ]
  },
  {
   "cell_type": "code",
   "execution_count": null,
   "metadata": {},
   "outputs": [],
   "source": [
    "mae_score_user = utils.mae(test_data['value'], predicted_ratings_user)"
   ]
  },
  {
   "cell_type": "code",
   "execution_count": null,
   "metadata": {},
   "outputs": [],
   "source": [
    "mae_score_item = utils.mae(test_data['value'], predicted_ratings_item)"
   ]
  },
  {
   "cell_type": "code",
   "execution_count": null,
   "metadata": {},
   "outputs": [],
   "source": [
    "xi = U.index[0] # for example\n",
    "\n",
    "if mae_score_user < mae_score_item:\n",
    "    print(f\"User-User Collaborative Filtering has a better performance with a MAE of {mae_score_user}\")\n",
    "    recommendations = cfUser.recommend(xi, 5)\n",
    "else:\n",
    "    print(f\"Item-Item Collaborative Filtering has a better performance with a MAE of {mae_score_item}\")\n",
    "    recommendations = cfItem.recommend(xi, 5)\n",
    "\n",
    "print(f\"Top 5 recommendations for user {xi}: {recommendations}\")"
   ]
  }
 ],
 "metadata": {
  "kernelspec": {
   "display_name": "Python 3 (ipykernel)",
   "language": "python",
   "name": "python3"
  }
 },
 "nbformat": 4,
 "nbformat_minor": 2
}
