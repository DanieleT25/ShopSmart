{
 "cells": [
  {
   "cell_type": "markdown",
   "metadata": {},
   "source": [
    "# Model Training"
   ]
  },
  {
   "cell_type": "code",
   "execution_count": null,
   "metadata": {},
   "outputs": [],
   "source": [
    "import pandas as pd\n",
    "import sys\n",
    "import os\n",
    "\n",
    "sys.path.append(os.path.abspath(os.path.join(os.getcwd(), '..')))\n",
    "\n",
    "from source.models.collabFilter import CollaborativeFilter\n",
    "from source.models.collabFilter_UserUser import CollaborativeFilter_UserUser\n",
    "from source.models.collabFilter_ItemItem import CollaborativeFilter_ItemItem"
   ]
  },
  {
   "cell_type": "code",
   "execution_count": null,
   "metadata": {},
   "outputs": [],
   "source": [
    "train_data = pd.read_csv('../Data/train_data.csv')\n",
    "U = train_data.pivot_table(index='tessera',columns='cod_prod',values='value')"
   ]
  },
  {
   "cell_type": "markdown",
   "metadata": {},
   "source": [
    "You can use CollaborativeFilter_UserUser or CollaborativeFilter_ItemItem, for this example we use a CollaborativeFilter_ItemItem."
   ]
  },
  {
   "cell_type": "code",
   "execution_count": null,
   "metadata": {},
   "outputs": [],
   "source": [
    "cf : CollaborativeFilter =  CollaborativeFilter_ItemItem(N = 100) # ... = CollaborativeFilter_UserUser(N = 100)\n",
    "cf.fit(U)"
   ]
  },
  {
   "cell_type": "code",
   "execution_count": null,
   "metadata": {},
   "outputs": [],
   "source": [
    "xi = U.index[0]\n",
    "sj = U.columns[0]\n",
    "predicted_rating = cf.predict(xi, sj)\n",
    "print(f\"Predicted rating for user {xi} and product {sj}: {predicted_rating}\")"
   ]
  }
 ],
 "metadata": {
  "kernelspec": {
   "display_name": "Python 3 (ipykernel)",
   "language": "python",
   "name": "python3"
  }
 },
 "nbformat": 4,
 "nbformat_minor": 2
}
