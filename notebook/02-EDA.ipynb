{
 "cells": [
  {
   "cell_type": "markdown",
   "metadata": {},
   "source": [
    "# Exploratory data analysis"
   ]
  },
  {
   "cell_type": "code",
   "execution_count": null,
   "metadata": {},
   "outputs": [],
   "source": [
    "import pandas as pd\n",
    "import matplotlib.pyplot as plt"
   ]
  },
  {
   "cell_type": "code",
   "execution_count": null,
   "metadata": {},
   "outputs": [],
   "source": [
    "df = pd.read_csv('../Data/export_clean.csv')"
   ]
  },
  {
   "cell_type": "code",
   "execution_count": null,
   "metadata": {},
   "outputs": [],
   "source": [
    "df"
   ]
  },
  {
   "cell_type": "markdown",
   "metadata": {},
   "source": [
    "## 1. Distribution of sales by product"
   ]
  },
  {
   "cell_type": "code",
   "execution_count": null,
   "metadata": {},
   "outputs": [],
   "source": [
    "# Distribuzione delle vendite per prodotto (r_ean)\n",
    "product_sales = df['cod_prod'].value_counts()\n",
    "\n",
    "plt.figure(figsize=(10, 6))\n",
    "product_sales.head(20).plot(kind='bar')\n",
    "plt.title('Top 20 Prodotti per Numero di Vendite')\n",
    "plt.xlabel('EAN del Prodotto')\n",
    "plt.ylabel('Numero di Vendite')\n",
    "plt.show()"
   ]
  },
  {
   "cell_type": "markdown",
   "metadata": {},
   "source": [
    "## 2. Frequency of purchases per customer"
   ]
  },
  {
   "cell_type": "code",
   "execution_count": null,
   "metadata": {},
   "outputs": [],
   "source": [
    "# Frequenza degli acquisti per cliente (tessera)\n",
    "customer_frequency = df['tessera'].value_counts()\n",
    "\n",
    "plt.figure(figsize=(10, 6))\n",
    "customer_frequency.head(20).plot(kind='bar')\n",
    "plt.title('Top 20 Clienti per Numero di Acquisti')\n",
    "plt.xlabel('ID Tessera Cliente')\n",
    "plt.ylabel('Numero di Acquisti')\n",
    "plt.show()"
   ]
  },
  {
   "cell_type": "markdown",
   "metadata": {},
   "source": [
    "## 4. Identification of seasonal or temporal patterns in sales"
   ]
  },
  {
   "cell_type": "code",
   "execution_count": null,
   "metadata": {},
   "outputs": [],
   "source": [
    "# Convertire la colonna 'data' in formato datetime\n",
    "#df['data'] = pd.to_datetime(df['data'])\n",
    "\n",
    "# Estrarre mese e giorno della settimana\n",
    "df['month'] = df['data'].dt.month\n",
    "df['day_of_week'] = df['data'].dt.dayofweek\n",
    "\n",
    "# Pattern mensili\n",
    "monthly_sales = df.groupby('month')['r_importo_lordo'].sum()\n",
    "\n",
    "plt.figure(figsize=(10, 6))\n",
    "monthly_sales.plot(kind='bar')\n",
    "plt.title('Vendite Mensili')\n",
    "plt.xlabel('Mese')\n",
    "plt.ylabel('Importo Lordo delle Vendite')\n",
    "plt.show()\n",
    "\n",
    "# Pattern settimanali\n",
    "df['day_of_week'] = df['day_of_week'].apply(lambda x: x + 1)\n",
    "weekly_sales = df.groupby('day_of_week')['r_importo_lordo'].sum()\n",
    "\n",
    "plt.figure(figsize=(10, 6))\n",
    "weekly_sales.plot(kind='bar')\n",
    "plt.title('Vendite Settimanali')\n",
    "plt.xlabel('Giorno della Settimana')\n",
    "plt.ylabel('Importo Lordo delle Vendite')\n",
    "plt.show()"
   ]
  }
 ],
 "metadata": {
  "kernelspec": {
   "display_name": "Python 3 (ipykernel)",
   "language": "python",
   "name": "python3"
  },
  "language_info": {
   "codemirror_mode": {
    "name": "ipython",
    "version": 3
   },
   "file_extension": ".py",
   "mimetype": "text/x-python",
   "name": "python",
   "nbconvert_exporter": "python",
   "pygments_lexer": "ipython3",
   "version": "3.12.0"
  }
 },
 "nbformat": 4,
 "nbformat_minor": 2
}
