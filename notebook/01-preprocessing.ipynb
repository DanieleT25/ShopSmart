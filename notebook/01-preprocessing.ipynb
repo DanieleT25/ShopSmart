{
 "cells": [
  {
   "cell_type": "markdown",
   "metadata": {},
   "source": [
    "# Preprocessing phase"
   ]
  },
  {
   "cell_type": "code",
   "execution_count": 1,
   "metadata": {},
   "outputs": [],
   "source": [
    "import sys\n",
    "import os\n",
    "\n",
    "sys.path.append(os.path.abspath(os.path.join(os.getcwd(), '..')))\n",
    "from source.utils.dataHandler import DataHandler"
   ]
  },
  {
   "cell_type": "code",
   "execution_count": 2,
   "metadata": {},
   "outputs": [
    {
     "name": "stderr",
     "output_type": "stream",
     "text": [
      "/Users/daniele/Documents/Università/terzoAnno/primoSemestre/SocialMediaDataAnalysis/Progetto/ShopSmart/source/utils/dataHandler.py:22: DtypeWarning: Columns (12,22) have mixed types. Specify dtype option on import or set low_memory=False.\n",
      "  self.df = pd.read_csv(filepath)\n"
     ]
    }
   ],
   "source": [
    "data_handler = DataHandler('../Data/export.csv')"
   ]
  },
  {
   "cell_type": "code",
   "execution_count": 3,
   "metadata": {},
   "outputs": [],
   "source": [
    "data_handler.preprocess_data()"
   ]
  },
  {
   "cell_type": "code",
   "execution_count": 4,
   "metadata": {},
   "outputs": [
    {
     "data": {
      "text/html": [
       "<div>\n",
       "<style scoped>\n",
       "    .dataframe tbody tr th:only-of-type {\n",
       "        vertical-align: middle;\n",
       "    }\n",
       "\n",
       "    .dataframe tbody tr th {\n",
       "        vertical-align: top;\n",
       "    }\n",
       "\n",
       "    .dataframe thead th {\n",
       "        text-align: right;\n",
       "    }\n",
       "</style>\n",
       "<table border=\"1\" class=\"dataframe\">\n",
       "  <thead>\n",
       "    <tr style=\"text-align: right;\">\n",
       "      <th></th>\n",
       "      <th>db_sc</th>\n",
       "      <th>id_sc</th>\n",
       "      <th>pv</th>\n",
       "      <th>data</th>\n",
       "      <th>cassa</th>\n",
       "      <th>cassiere</th>\n",
       "      <th>num_scontrino</th>\n",
       "      <th>ora</th>\n",
       "      <th>tessera</th>\n",
       "      <th>t_flag</th>\n",
       "      <th>...</th>\n",
       "      <th>liv4</th>\n",
       "      <th>descr_liv4</th>\n",
       "      <th>liv5</th>\n",
       "      <th>descr_liv5</th>\n",
       "      <th>liv6</th>\n",
       "      <th>descr_liv6</th>\n",
       "      <th>tipologia</th>\n",
       "      <th>descr_tipologia</th>\n",
       "      <th>cod_rep</th>\n",
       "      <th>descr_rep</th>\n",
       "    </tr>\n",
       "  </thead>\n",
       "  <tbody>\n",
       "    <tr>\n",
       "      <th>0</th>\n",
       "      <td>sysevo</td>\n",
       "      <td>52597225</td>\n",
       "      <td>4653</td>\n",
       "      <td>2023-03-25</td>\n",
       "      <td>2</td>\n",
       "      <td>2</td>\n",
       "      <td>248</td>\n",
       "      <td>21:08:00</td>\n",
       "      <td>NaN</td>\n",
       "      <td>V</td>\n",
       "      <td>...</td>\n",
       "      <td>02070201</td>\n",
       "      <td>ARANCIATA ZUCCHERO</td>\n",
       "      <td>NaN</td>\n",
       "      <td>NaN</td>\n",
       "      <td>NaN</td>\n",
       "      <td>NaN</td>\n",
       "      <td>NO</td>\n",
       "      <td>Prodotti Normali</td>\n",
       "      <td>001</td>\n",
       "      <td>ALIMENTARE</td>\n",
       "    </tr>\n",
       "    <tr>\n",
       "      <th>1</th>\n",
       "      <td>sysevo</td>\n",
       "      <td>52597232</td>\n",
       "      <td>4542</td>\n",
       "      <td>2023-03-25</td>\n",
       "      <td>1</td>\n",
       "      <td>1</td>\n",
       "      <td>581</td>\n",
       "      <td>21:00:00</td>\n",
       "      <td>2.484252e+11</td>\n",
       "      <td>V</td>\n",
       "      <td>...</td>\n",
       "      <td>01180203</td>\n",
       "      <td>PARZIALMENTE SCREMATO</td>\n",
       "      <td>NaN</td>\n",
       "      <td>NaN</td>\n",
       "      <td>NaN</td>\n",
       "      <td>NaN</td>\n",
       "      <td>NO</td>\n",
       "      <td>Prodotti Normali</td>\n",
       "      <td>001</td>\n",
       "      <td>ALIMENTARE</td>\n",
       "    </tr>\n",
       "    <tr>\n",
       "      <th>2</th>\n",
       "      <td>sysevo</td>\n",
       "      <td>52597232</td>\n",
       "      <td>4542</td>\n",
       "      <td>2023-03-25</td>\n",
       "      <td>1</td>\n",
       "      <td>1</td>\n",
       "      <td>581</td>\n",
       "      <td>21:00:00</td>\n",
       "      <td>2.484252e+11</td>\n",
       "      <td>V</td>\n",
       "      <td>...</td>\n",
       "      <td>05040402</td>\n",
       "      <td>VASCHETTE</td>\n",
       "      <td>NaN</td>\n",
       "      <td>NaN</td>\n",
       "      <td>NaN</td>\n",
       "      <td>NaN</td>\n",
       "      <td>NO</td>\n",
       "      <td>Prodotti Normali</td>\n",
       "      <td>005</td>\n",
       "      <td>CURA CASA</td>\n",
       "    </tr>\n",
       "    <tr>\n",
       "      <th>3</th>\n",
       "      <td>sysevo</td>\n",
       "      <td>52597232</td>\n",
       "      <td>4542</td>\n",
       "      <td>2023-03-25</td>\n",
       "      <td>1</td>\n",
       "      <td>1</td>\n",
       "      <td>581</td>\n",
       "      <td>21:00:00</td>\n",
       "      <td>2.484252e+11</td>\n",
       "      <td>V</td>\n",
       "      <td>...</td>\n",
       "      <td>03080203</td>\n",
       "      <td>PASTA SFOGLIA</td>\n",
       "      <td>NaN</td>\n",
       "      <td>NaN</td>\n",
       "      <td>NaN</td>\n",
       "      <td>NaN</td>\n",
       "      <td>PM</td>\n",
       "      <td>Prodotti a Marchio Coop</td>\n",
       "      <td>003</td>\n",
       "      <td>BANCO LIBERO SERVIZIO</td>\n",
       "    </tr>\n",
       "    <tr>\n",
       "      <th>4</th>\n",
       "      <td>sysevo</td>\n",
       "      <td>52597232</td>\n",
       "      <td>4542</td>\n",
       "      <td>2023-03-25</td>\n",
       "      <td>1</td>\n",
       "      <td>1</td>\n",
       "      <td>581</td>\n",
       "      <td>21:00:00</td>\n",
       "      <td>2.484252e+11</td>\n",
       "      <td>V</td>\n",
       "      <td>...</td>\n",
       "      <td>03080203</td>\n",
       "      <td>PASTA SFOGLIA</td>\n",
       "      <td>NaN</td>\n",
       "      <td>NaN</td>\n",
       "      <td>NaN</td>\n",
       "      <td>NaN</td>\n",
       "      <td>PM</td>\n",
       "      <td>Prodotti a Marchio Coop</td>\n",
       "      <td>003</td>\n",
       "      <td>BANCO LIBERO SERVIZIO</td>\n",
       "    </tr>\n",
       "  </tbody>\n",
       "</table>\n",
       "<p>5 rows × 43 columns</p>\n",
       "</div>"
      ],
      "text/plain": [
       "    db_sc     id_sc    pv       data  cassa  cassiere  num_scontrino  \\\n",
       "0  sysevo  52597225  4653 2023-03-25      2         2            248   \n",
       "1  sysevo  52597232  4542 2023-03-25      1         1            581   \n",
       "2  sysevo  52597232  4542 2023-03-25      1         1            581   \n",
       "3  sysevo  52597232  4542 2023-03-25      1         1            581   \n",
       "4  sysevo  52597232  4542 2023-03-25      1         1            581   \n",
       "\n",
       "        ora       tessera t_flag  ...      liv4             descr_liv4 liv5  \\\n",
       "0  21:08:00           NaN      V  ...  02070201     ARANCIATA ZUCCHERO  NaN   \n",
       "1  21:00:00  2.484252e+11      V  ...  01180203  PARZIALMENTE SCREMATO  NaN   \n",
       "2  21:00:00  2.484252e+11      V  ...  05040402              VASCHETTE  NaN   \n",
       "3  21:00:00  2.484252e+11      V  ...  03080203          PASTA SFOGLIA  NaN   \n",
       "4  21:00:00  2.484252e+11      V  ...  03080203          PASTA SFOGLIA  NaN   \n",
       "\n",
       "   descr_liv5  liv6  descr_liv6  tipologia          descr_tipologia  cod_rep  \\\n",
       "0         NaN   NaN         NaN         NO         Prodotti Normali      001   \n",
       "1         NaN   NaN         NaN         NO         Prodotti Normali      001   \n",
       "2         NaN   NaN         NaN         NO         Prodotti Normali      005   \n",
       "3         NaN   NaN         NaN         PM  Prodotti a Marchio Coop      003   \n",
       "4         NaN   NaN         NaN         PM  Prodotti a Marchio Coop      003   \n",
       "\n",
       "               descr_rep  \n",
       "0             ALIMENTARE  \n",
       "1             ALIMENTARE  \n",
       "2              CURA CASA  \n",
       "3  BANCO LIBERO SERVIZIO  \n",
       "4  BANCO LIBERO SERVIZIO  \n",
       "\n",
       "[5 rows x 43 columns]"
      ]
     },
     "execution_count": 4,
     "metadata": {},
     "output_type": "execute_result"
    }
   ],
   "source": [
    "data_handler.get_data().head()"
   ]
  },
  {
   "cell_type": "markdown",
   "metadata": {},
   "source": [
    "Which quarter do you prefer?\n",
    "\n",
    "You have the following choices:\n",
    "- Gen-Mar\n",
    "- Apr-Giu\n",
    "- Lug-Set\n",
    "- Ott-Dic"
   ]
  },
  {
   "cell_type": "code",
   "execution_count": 5,
   "metadata": {},
   "outputs": [
    {
     "name": "stdout",
     "output_type": "stream",
     "text": [
      "Dataframe filtered by quarter: Gen-Mar\n"
     ]
    }
   ],
   "source": [
    "quarter = 'Gen-Mar'\n",
    "\n",
    "data_handler.filter_month(quarter)"
   ]
  },
  {
   "cell_type": "markdown",
   "metadata": {},
   "source": [
    "For the implementation of a recommendation system, we must know who is the client.\n",
    "\n",
    "The only feature that provides this information is tessera, but the number of fidelity customers is very low\n",
    "\n",
    "You can select chose between fidelity’s number and receipt’s code to index the recommendation system"
   ]
  },
  {
   "cell_type": "code",
   "execution_count": 6,
   "metadata": {},
   "outputs": [],
   "source": [
    "index = 'tessera' # or index = 'id_sc'\n",
    "data_handler.process(index)"
   ]
  }
 ],
 "metadata": {
  "kernelspec": {
   "display_name": "Python 3 (ipykernel)",
   "language": "python",
   "name": "python3"
  },
  "language_info": {
   "codemirror_mode": {
    "name": "ipython",
    "version": 3
   },
   "file_extension": ".py",
   "mimetype": "text/x-python",
   "name": "python",
   "nbconvert_exporter": "python",
   "pygments_lexer": "ipython3",
   "version": "3.12.0"
  }
 },
 "nbformat": 4,
 "nbformat_minor": 2
}
