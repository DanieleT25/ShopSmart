{
 "cells": [
  {
   "cell_type": "markdown",
   "metadata": {},
   "source": [
    "# Preprocessing phase"
   ]
  },
  {
   "cell_type": "code",
   "execution_count": null,
   "metadata": {},
   "outputs": [],
   "source": [
    "import pandas as pd\n",
    "import numpy as np\n",
    "import random\n",
    "from sklearn.model_selection import train_test_split"
   ]
  },
  {
   "cell_type": "code",
   "execution_count": null,
   "metadata": {},
   "outputs": [],
   "source": [
    "dataset = pd.read_csv('../Data/export.csv')"
   ]
  },
  {
   "cell_type": "code",
   "execution_count": null,
   "metadata": {},
   "outputs": [],
   "source": [
    "columnsName = ['db_sc', 'id_sc', 'pv', 'data', 'cassa', 'cassiere', 'num_scontrino', 'ora', 'tessera', 't_flag', 'num_riga',\n",
    "                'r_reparto_cdaplus', 'r_ean', 'r_qta_pezzi', 'r_peso', 'r_importo_lordo', 'r_imponibile', 'r_iva', 'r_sconto',\n",
    "                'r_sconto_fide', 'r_sconto_rip', 'r_tipo_riga', 'cod_prod', 'descr_prod', 'cat_mer', 'cod_forn', 'descr_forn',\n",
    "                'liv1', 'descr_liv1', 'liv2', 'descr_liv2', 'liv3', 'descr_liv3', 'liv4', 'descr_liv4', 'liv5', 'descr_liv5',\n",
    "                'liv6', 'descr_liv6', 'tipologia', 'descr_tipologia', 'cod_rep', 'descr_rep']\n",
    "\n",
    "dataset.columns = columnsName"
   ]
  },
  {
   "cell_type": "code",
   "execution_count": null,
   "metadata": {},
   "outputs": [],
   "source": [
    "pd.set_option('display.max_columns', None)"
   ]
  },
  {
   "cell_type": "code",
   "execution_count": null,
   "metadata": {},
   "outputs": [],
   "source": [
    "dataset"
   ]
  },
  {
   "cell_type": "code",
   "execution_count": null,
   "metadata": {},
   "outputs": [],
   "source": [
    "dataset['cod_prod'] = dataset['cod_prod'].astype(str)\n",
    "dataset['cod_prod'] = dataset['cod_prod'].apply(lambda x: x.split('.')[0] if '.0' in x else x)\n"
   ]
  },
  {
   "cell_type": "code",
   "execution_count": null,
   "metadata": {},
   "outputs": [],
   "source": [
    "dataset = dataset.dropna(subset=['cod_prod'])\n",
    "dataset = dataset[dataset['r_tipo_riga'] != 'ANNULLO']\n",
    "dataset = dataset[dataset['r_importo_lordo'] != 0]\n",
    "dataset = dataset[dataset['cat_mer'] != 'NNNNN']\n",
    "dataset = dataset[dataset['cod_prod'] != '1090011'] # shopping bag"
   ]
  },
  {
   "cell_type": "markdown",
   "metadata": {},
   "source": [
    "For implement a Recommendation system, we must know who is the client.\n",
    "\n",
    "The only feature that return this information is 'tessera' but the fidelity customers are much less."
   ]
  },
  {
   "cell_type": "code",
   "execution_count": null,
   "metadata": {},
   "outputs": [],
   "source": [
    "dataset = dataset[dataset['tessera'].notna()]"
   ]
  },
  {
   "cell_type": "code",
   "execution_count": null,
   "metadata": {},
   "outputs": [],
   "source": [
    "dataset['data'] = pd.to_datetime(dataset['data'])\n",
    "dataset['ora'] = pd.to_datetime(dataset['ora'], format='%H:%M').dt.time"
   ]
  },
  {
   "cell_type": "code",
   "execution_count": null,
   "metadata": {},
   "outputs": [],
   "source": [
    "df = dataset[['id_sc', 'pv', 'data', 'ora', 'tessera', 'r_qta_pezzi', 'r_peso', 'r_importo_lordo', 'r_sconto', 'r_sconto_rip', 'cod_prod', 'descr_prod',\n",
    "                'cat_mer', 'cod_forn', 'liv1', 'descr_liv1', 'liv2', 'descr_liv2', 'liv3', 'descr_liv3', 'liv4', 'descr_liv4']]"
   ]
  },
  {
   "cell_type": "code",
   "execution_count": null,
   "metadata": {},
   "outputs": [],
   "source": [
    "df_GenMar = df[(df['data'].dt.month >= 1) & (df['data'].dt.month <= 3)][['tessera', 'cod_prod', 'descr_prod']]\n",
    "df_AprGiu = df[(df['data'].dt.month >= 4) & (df['data'].dt.month <= 6)][['tessera', 'cod_prod', 'descr_prod']]\n",
    "df_LugSet = df[(df['data'].dt.month >= 7) & (df['data'].dt.month <= 9)][['tessera', 'cod_prod', 'descr_prod']]\n",
    "df_OttDic = df[(df['data'].dt.month >= 10) & (df['data'].dt.month <= 12)][['tessera', 'cod_prod', 'descr_prod']]"
   ]
  },
  {
   "cell_type": "code",
   "execution_count": null,
   "metadata": {},
   "outputs": [],
   "source": [
    "def preprocess(df):\n",
    "    return df.groupby(['tessera', 'cod_prod', 'descr_prod']).agg(value=('cod_prod', 'count')).reset_index()"
   ]
  },
  {
   "cell_type": "code",
   "execution_count": null,
   "metadata": {},
   "outputs": [],
   "source": [
    "df_GenMar = preprocess(df_GenMar)\n",
    "df_AprGiu = preprocess(df_AprGiu)\n",
    "df_LugSet = preprocess(df_LugSet)\n",
    "df_OttDic = preprocess(df_OttDic)"
   ]
  },
  {
   "cell_type": "code",
   "execution_count": null,
   "metadata": {},
   "outputs": [],
   "source": [
    "np.random.seed(42)\n",
    "random.seed(42)"
   ]
  },
  {
   "cell_type": "code",
   "execution_count": null,
   "metadata": {},
   "outputs": [],
   "source": [
    "train_data_GenMar, test_data_GenMar = train_test_split(df_GenMar, test_size=0.25)\n",
    "train_data_AprGiu, test_data_AprGiu = train_test_split(df_AprGiu, test_size=0.25)\n",
    "train_data_LugSet, test_data_LugSet = train_test_split(df_LugSet, test_size=0.25)\n",
    "train_data_OttDic, test_data_OttDic = train_test_split(df_OttDic, test_size=0.25)"
   ]
  },
  {
   "cell_type": "code",
   "execution_count": null,
   "metadata": {},
   "outputs": [],
   "source": [
    "train_data_GenMar.to_csv('../Data/train_data_GenMar.csv', index=False)\n",
    "train_data_AprGiu.to_csv('../Data/train_data_AprGiu.csv', index=False)\n",
    "train_data_LugSet.to_csv('../Data/train_data_LugSet.csv', index=False)\n",
    "train_data_OttDic.to_csv('../Data/train_data_OttDic.csv', index=False)\n",
    "\n",
    "test_data_GenMar.to_csv('../Data/test_data_GenMar.csv', index=False)\n",
    "test_data_AprGiu.to_csv('../Data/test_data_AprGiu.csv', index=False)\n",
    "test_data_LugSet.to_csv('../Data/test_data_LugSet.csv', index=False)\n",
    "test_data_OttDic.to_csv('../Data/test_data_OttDic.csv', index=False)"
   ]
  }
 ],
 "metadata": {
  "kernelspec": {
   "display_name": "Python 3 (ipykernel)",
   "language": "python",
   "name": "python3"
  },
  "language_info": {
   "codemirror_mode": {
    "name": "ipython",
    "version": 3
   },
   "file_extension": ".py",
   "mimetype": "text/x-python",
   "name": "python",
   "nbconvert_exporter": "python",
   "pygments_lexer": "ipython3",
   "version": "3.12.0"
  }
 },
 "nbformat": 4,
 "nbformat_minor": 2
}
